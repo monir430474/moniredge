{
  "nbformat": 4,
  "nbformat_minor": 0,
  "metadata": {
    "colab": {
      "provenance": [],
      "authorship_tag": "ABX9TyPZ6/b4iCRKg/RuphSc0l0n",
      "include_colab_link": true
    },
    "kernelspec": {
      "name": "python3",
      "display_name": "Python 3"
    },
    "language_info": {
      "name": "python"
    }
  },
  "cells": [
    {
      "cell_type": "markdown",
      "metadata": {
        "id": "view-in-github",
        "colab_type": "text"
      },
      "source": [
        "<a href=\"https://colab.research.google.com/github/monir430474/moniredge/blob/main/webcame8.ipynb\" target=\"_parent\"><img src=\"https://colab.research.google.com/assets/colab-badge.svg\" alt=\"Open In Colab\"/></a>"
      ]
    },
    {
      "cell_type": "code",
      "execution_count": 4,
      "metadata": {
        "colab": {
          "base_uri": "https://localhost:8080/",
          "height": 502
        },
        "id": "GIfBacpGpxhK",
        "outputId": "30e1650a-1c05-4650-89b3-1e9e83126260"
      },
      "outputs": [
        {
          "output_type": "execute_result",
          "data": {
            "text/plain": [
              "<IPython.core.display.Javascript object>"
            ],
            "application/javascript": [
              "\n",
              "async function captureImage() {\n",
              "  try {\n",
              "    const stream = await navigator.mediaDevices.getUserMedia({ video: true });\n",
              "    const video = document.createElement('video');\n",
              "    document.body.appendChild(video);\n",
              "    video.srcObject = stream;\n",
              "    video.play();\n",
              "\n",
              "    // Wait for the video to play before taking a picture.\n",
              "    await new Promise(resolve => video.onplaying = resolve);\n",
              "\n",
              "    // Create a canvas element and capture the image from the video stream.\n",
              "    const canvas = document.createElement('canvas');\n",
              "    canvas.width = video.videoWidth;\n",
              "    canvas.height = video.videoHeight;\n",
              "    const context = canvas.getContext('2d');\n",
              "    context.drawImage(video, 0, 0, canvas.width, canvas.height);\n",
              "    const dataURL = canvas.toDataURL('image/png');\n",
              "\n",
              "    // Display the captured image.\n",
              "    const image = document.createElement('img');\n",
              "    image.src = dataURL;\n",
              "    document.body.appendChild(image);\n",
              "    \n",
              "    // Stop the video stream.\n",
              "    stream.getTracks().forEach(track => track.stop());\n",
              "  } catch (error) {\n",
              "    console.error(\"Error accessing camera:\", error);\n",
              "    alert(\"Error accessing camera. Please make sure you've granted camera permissions.\");\n",
              "  }\n",
              "}\n",
              "\n",
              "captureImage();\n"
            ]
          },
          "metadata": {},
          "execution_count": 4
        }
      ],
      "source": [
        "# prompt: open mobile camera code\n",
        "\n",
        "import IPython\n",
        "\n",
        "# This code will only work in a Jupyter Notebook or Google Colab environment.\n",
        "# It relies on IPython's display functionality and JavaScript to interact with the user's camera.\n",
        "# In other environments, you'll need a different approach using platform-specific libraries.\n",
        "\n",
        "# Display JavaScript code that requests access to the user's camera.\n",
        "IPython.display.Javascript('''\n",
        "async function captureImage() {\n",
        "  try {\n",
        "    const stream = await navigator.mediaDevices.getUserMedia({ video: true });\n",
        "    const video = document.createElement('video');\n",
        "    document.body.appendChild(video);\n",
        "    video.srcObject = stream;\n",
        "    video.play();\n",
        "\n",
        "    // Wait for the video to play before taking a picture.\n",
        "    await new Promise(resolve => video.onplaying = resolve);\n",
        "\n",
        "    // Create a canvas element and capture the image from the video stream.\n",
        "    const canvas = document.createElement('canvas');\n",
        "    canvas.width = video.videoWidth;\n",
        "    canvas.height = video.videoHeight;\n",
        "    const context = canvas.getContext('2d');\n",
        "    context.drawImage(video, 0, 0, canvas.width, canvas.height);\n",
        "    const dataURL = canvas.toDataURL('image/png');\n",
        "\n",
        "    // Display the captured image.\n",
        "    const image = document.createElement('img');\n",
        "    image.src = dataURL;\n",
        "    document.body.appendChild(image);\n",
        "\n",
        "    // Stop the video stream.\n",
        "    stream.getTracks().forEach(track => track.stop());\n",
        "  } catch (error) {\n",
        "    console.error(\"Error accessing camera:\", error);\n",
        "    alert(\"Error accessing camera. Please make sure you've granted camera permissions.\");\n",
        "  }\n",
        "}\n",
        "\n",
        "captureImage();\n",
        "''')"
      ]
    }
  ]
}