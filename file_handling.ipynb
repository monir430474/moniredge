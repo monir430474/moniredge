{
  "nbformat": 4,
  "nbformat_minor": 0,
  "metadata": {
    "colab": {
      "provenance": [],
      "authorship_tag": "ABX9TyOBFD0QaDcRIX2siMGul/vE",
      "include_colab_link": true
    },
    "kernelspec": {
      "name": "python3",
      "display_name": "Python 3"
    },
    "language_info": {
      "name": "python"
    }
  },
  "cells": [
    {
      "cell_type": "markdown",
      "metadata": {
        "id": "view-in-github",
        "colab_type": "text"
      },
      "source": [
        "<a href=\"https://colab.research.google.com/github/monir430474/moniredge/blob/main/file_handling.ipynb\" target=\"_parent\"><img src=\"https://colab.research.google.com/assets/colab-badge.svg\" alt=\"Open In Colab\"/></a>"
      ]
    },
    {
      "cell_type": "code",
      "execution_count": null,
      "metadata": {
        "id": "cs9PgSTxw3is"
      },
      "outputs": [],
      "source": []
    },
    {
      "cell_type": "code",
      "source": [
        "with open(\"bangla.txt\", \"r\") as file:\n",
        "    content = file.read()\n",
        "    print(content)\n"
      ],
      "metadata": {
        "colab": {
          "base_uri": "https://localhost:8080/"
        },
        "id": "vnS6mJ4Dx0YT",
        "outputId": "b25b5d9c-738f-4a37-9b47-f38d718cca19"
      },
      "execution_count": 1,
      "outputs": [
        {
          "output_type": "stream",
          "name": "stdout",
          "text": [
            "list=[100,300,500]\n",
            "s=\"i am monir from 49 batch\"\n",
            "\n",
            "def printy(a):\n",
            "    print(a)\n",
            "\n",
            "  class b49:\n",
            "  pass\n"
          ]
        }
      ]
    },
    {
      "cell_type": "code",
      "source": [],
      "metadata": {
        "id": "3EG0GG5rzsJZ"
      },
      "execution_count": null,
      "outputs": []
    },
    {
      "cell_type": "code",
      "source": [],
      "metadata": {
        "id": "3obevM4_1O_h"
      },
      "execution_count": null,
      "outputs": []
    },
    {
      "cell_type": "code",
      "source": [
        "# Open a file and write to it (overwrites if file exists)\n",
        "with open(\"bangla.txt\", \"w\") as file:\n",
        "    file.write(\"amar sonar bangla ami tomai bhalobashi.\\n\")\n",
        "    file.write(\"This is the second line.\")\n"
      ],
      "metadata": {
        "id": "NzGorrIG027w"
      },
      "execution_count": 7,
      "outputs": []
    },
    {
      "cell_type": "code",
      "source": [
        "# Open a file in append mode\n",
        "with open(\"bangla.txt\", \"a\") as file:\n",
        "    file.write(\"\\nami tomai bhalobashi.\")\n"
      ],
      "metadata": {
        "id": "RtU9L5T8171D"
      },
      "execution_count": 11,
      "outputs": []
    },
    {
      "cell_type": "code",
      "source": [
        "# Writing binary data\n",
        "with open(\"eex.bin\", \"wb\") as file:\n",
        "    file.write(\"tumi amar sotru.kintu ami tomai bhalobashi\")\n",
        "\n",
        "# Reading binary data\n",
        "with open(\"eex.bin\", \"rb\") as file:\n",
        "    content = file.read()\n",
        "    print(content)\n"
      ],
      "metadata": {
        "colab": {
          "base_uri": "https://localhost:8080/"
        },
        "id": "edLji-kR2diE",
        "outputId": "f787581d-04c0-4070-9bcf-c76ea97a69f3"
      },
      "execution_count": 13,
      "outputs": [
        {
          "output_type": "stream",
          "name": "stdout",
          "text": [
            "b'tumi amar sotru.kintu ami tomai bhalobashi'\n"
          ]
        }
      ]
    },
    {
      "cell_type": "code",
      "source": [
        "try:\n",
        "    with open(\"ba.txt\", \"r\") as file:\n",
        "        content = file.read()\n",
        "        print(content)\n",
        "except FileNotFoundError:\n",
        "    print(\"tumi amar sotru ,kintu ami tomai valobashi.\")\n",
        "except IOError:\n",
        "    print(\"An error occurred while handling the file.\")\n"
      ],
      "metadata": {
        "colab": {
          "base_uri": "https://localhost:8080/"
        },
        "id": "uDVMLmpK3KQv",
        "outputId": "e38ea872-e953-406d-80a2-4a632241b3a0"
      },
      "execution_count": 17,
      "outputs": [
        {
          "output_type": "stream",
          "name": "stdout",
          "text": [
            "tumi amar sotru ,kintu ami tomai valobashi.\n"
          ]
        }
      ]
    },
    {
      "cell_type": "code",
      "source": [
        "# prompt: x^2/5+y^2/5=1plot\n",
        "\n",
        "import matplotlib.pyplot as plt\n",
        "import numpy as np\n",
        "\n",
        "# Create an array of x values\n",
        "x = np.linspace(-5, 5, 400)\n",
        "\n",
        "# Calculate corresponding y values using the equation\n",
        "y = np.sqrt(5 * (1 - (x**2 / 5)))\n",
        "\n",
        "# Plot the upper half of the ellipse\n",
        "plt.plot(x, y)\n",
        "\n",
        "# Plot the lower half of the ellipse\n",
        "plt.plot(x, -y)\n",
        "\n",
        "# Set labels and title\n",
        "plt.xlabel(\"x\")\n",
        "plt.ylabel(\"y\")\n",
        "plt.title(\"Plot of x^2/5 + y^2/5 = 1\")\n",
        "\n",
        "# Add grid\n",
        "plt.grid(True)\n",
        "\n",
        "# Display the plot\n",
        "plt.show()"
      ],
      "metadata": {
        "colab": {
          "base_uri": "https://localhost:8080/",
          "height": 527
        },
        "id": "as-m2vUG-C5g",
        "outputId": "2eb5dd61-7d39-4da8-9cde-106dcc34ce9e"
      },
      "execution_count": 22,
      "outputs": [
        {
          "output_type": "stream",
          "name": "stderr",
          "text": [
            "<ipython-input-22-ecec4150d042>:10: RuntimeWarning: invalid value encountered in sqrt\n",
            "  y = np.sqrt(5 * (1 - (x**2 / 5)))\n"
          ]
        },
        {
          "output_type": "display_data",
          "data": {
            "text/plain": [
              "<Figure size 640x480 with 1 Axes>"
            ],
            "image/png": "[encoded data removed]"
          },
          "metadata": {}
        }
      ]
    }
  ]
}