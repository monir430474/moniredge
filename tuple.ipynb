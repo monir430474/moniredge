{
  "nbformat": 4,
  "nbformat_minor": 0,
  "metadata": {
    "colab": {
      "provenance": [],
      "authorship_tag": "ABX9TyOcwsSFqcJJSi1+scfJHEuT",
      "include_colab_link": true
    },
    "kernelspec": {
      "name": "python3",
      "display_name": "Python 3"
    },
    "language_info": {
      "name": "python"
    }
  },
  "cells": [
    {
      "cell_type": "markdown",
      "metadata": {
        "id": "view-in-github",
        "colab_type": "text"
      },
      "source": [
        "<a href=\"https://colab.research.google.com/github/monir430474/moniredge/blob/main/tuple.ipynb\" target=\"_parent\"><img src=\"https://colab.research.google.com/assets/colab-badge.svg\" alt=\"Open In Colab\"/></a>"
      ]
    },
    {
      "cell_type": "code",
      "source": [],
      "metadata": {
        "id": "VAZGGLAGxcMF"
      },
      "execution_count": null,
      "outputs": []
    },
    {
      "cell_type": "code",
      "execution_count": 1,
      "metadata": {
        "id": "oYSGSty-xgUQ",
        "outputId": "39a2b2a4-c8d7-4775-f040-0fc61e81bf64",
        "colab": {
          "base_uri": "https://localhost:8080/"
        }
      },
      "outputs": [
        {
          "output_type": "stream",
          "name": "stdout",
          "text": [
            "('apple', 'banana', 'cherry')\n",
            "(1, 5, 7, 9, 3)\n",
            "(True, False, False)\n",
            "True\n",
            "0\n",
            "False\n",
            "1\n",
            "False\n",
            "1\n"
          ]
        }
      ],
      "source": [
        "tuple1 = (\"apple\", \"banana\", \"cherry\")\n",
        "tuple2 = (1, 5, 7, 9, 3)\n",
        "tuple3 = (True, False, False)\n",
        "\n",
        "print(tuple1)\n",
        "print(tuple2)\n",
        "print(tuple3)\n",
        "\n",
        "mytuple = (\"apple\", \"banana\", \"cherry\", \"Cherry\")\n",
        "\n",
        "for x in tuple3:\n",
        "  print(x)\n",
        "  print(tuple3.index(x))"
      ]
    },
    {
      "cell_type": "code",
      "source": [
        "# Define a tuple\n",
        "example_tuple = (1, 2, 3, 3, 4, 5)\n",
        "\n",
        "# Ordered: Access elements by index\n",
        "print(\"First element:\", example_tuple[0])  # Output: 1\n",
        "print(\"Last element:\", example_tuple[-1])  # Output: 5\n",
        "\n",
        "# Unchangeable: Attempting to change an element raises an error\n",
        "try:\n",
        "    example_tuple[1] = 10  # This will raise an error\n",
        "except TypeError as e:\n",
        "    print(\"Error:\", e)\n",
        "\n",
        "# Allows duplicates: Tuple can have repeated elements\n",
        "print(\"Original tuple:\", example_tuple)  # Output: (1, 2, 3, 3, 4, 5)\n",
        "print(\"Count of 3:\", example_tuple.count(3))  # Output: 2\n",
        "\n",
        "# Iterating over the tuple (demonstrating order)\n",
        "for item in example_tuple:\n",
        "    print(item, end=\" \")  # Output: 1 2 3 3 4 5"
      ],
      "metadata": {
        "id": "gJMe-pXh1rwn",
        "outputId": "fe51de9b-5b34-4a05-a392-bde63b1af023",
        "colab": {
          "base_uri": "https://localhost:8080/"
        }
      },
      "execution_count": null,
      "outputs": [
        {
          "output_type": "stream",
          "name": "stdout",
          "text": [
            "First element: 1\n",
            "Last element: 5\n",
            "Error: 'tuple' object does not support item assignment\n",
            "Original tuple: (1, 2, 3, 3, 4, 5)\n",
            "Count of 3: 2\n",
            "1 2 3 3 4 5 "
          ]
        }
      ]
    }
  ]
}