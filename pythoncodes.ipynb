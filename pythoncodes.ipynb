{
  "nbformat": 4,
  "nbformat_minor": 0,
  "metadata": {
    "colab": {
      "provenance": [],
      "mount_file_id": "1kADH3N60pGH6ldyIxXpdocBfSNDF8pBc",
      "authorship_tag": "ABX9TyMlURxBn8N6TIgqpm7X3FAp",
      "include_colab_link": true
    },
    "kernelspec": {
      "name": "python3",
      "display_name": "Python 3"
    },
    "language_info": {
      "name": "python"
    }
  },
  "cells": [
    {
      "cell_type": "markdown",
      "metadata": {
        "id": "view-in-github",
        "colab_type": "text"
      },
      "source": [
        "<a href=\"https://colab.research.google.com/github/monir430474/moniredge/blob/main/pythoncodes.ipynb\" target=\"_parent\"><img src=\"https://colab.research.google.com/assets/colab-badge.svg\" alt=\"Open In Colab\"/></a>"
      ]
    },
    {
      "cell_type": "code",
      "execution_count": 1,
      "metadata": {
        "colab": {
          "base_uri": "https://localhost:8080/"
        },
        "id": "pVDnptfUmfuC",
        "outputId": "d5bde90a-0a56-4a07-c0c3-a64686139ff4"
      },
      "outputs": [
        {
          "output_type": "stream",
          "name": "stdout",
          "text": [
            "5\n",
            "john\n"
          ]
        }
      ],
      "source": [
        "x=5\n",
        "y=\"john\"\n",
        "print(x)\n",
        "print(y)"
      ]
    },
    {
      "cell_type": "code",
      "source": [
        "x=4 # x is not a string\n",
        "y=\"tashnir\" #y is not a int\n",
        "print (x)\n",
        "print (y)\n"
      ],
      "metadata": {
        "colab": {
          "base_uri": "https://localhost:8080/"
        },
        "id": "CsAp1A9Sog4v",
        "outputId": "7b9713c9-05b3-491a-d43d-4dd5c16411c1"
      },
      "execution_count": 3,
      "outputs": [
        {
          "output_type": "stream",
          "name": "stdout",
          "text": [
            "4\n",
            "tashnir\n"
          ]
        }
      ]
    }
  ]
}