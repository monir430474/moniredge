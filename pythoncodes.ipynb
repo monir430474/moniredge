{
  "nbformat": 4,
  "nbformat_minor": 0,
  "metadata": {
    "colab": {
      "provenance": [],
      "mount_file_id": "1kADH3N60pGH6ldyIxXpdocBfSNDF8pBc",
      "authorship_tag": "ABX9TyNQ3fIHfzM1ZhG5q11XFa6d",
      "include_colab_link": true
    },
    "kernelspec": {
      "name": "python3",
      "display_name": "Python 3"
    },
    "language_info": {
      "name": "python"
    }
  },
  "cells": [
    {
      "cell_type": "markdown",
      "metadata": {
        "id": "view-in-github",
        "colab_type": "text"
      },
      "source": [
        "<a href=\"https://colab.research.google.com/github/monir430474/moniredge/blob/main/pythoncodes.ipynb\" target=\"_parent\"><img src=\"https://colab.research.google.com/assets/colab-badge.svg\" alt=\"Open In Colab\"/></a>"
      ]
    },
    {
      "cell_type": "code",
      "execution_count": 1,
      "metadata": {
        "colab": {
          "base_uri": "https://localhost:8080/"
        },
        "id": "pVDnptfUmfuC",
        "outputId": "d5bde90a-0a56-4a07-c0c3-a64686139ff4"
      },
      "outputs": [
        {
          "output_type": "stream",
          "name": "stdout",
          "text": [
            "5\n",
            "john\n"
          ]
        }
      ],
      "source": [
        "x=5\n",
        "y=\"john\"\n",
        "print(x)\n",
        "print(y)"
      ]
    },
    {
      "cell_type": "code",
      "source": [
        "x=4 # x is not a string\n",
        "y=\"tashnir\" #y is not a int\n",
        "print (x)\n",
        "print (y)"
      ],
      "metadata": {
        "colab": {
          "base_uri": "https://localhost:8080/"
        },
        "id": "CsAp1A9Sog4v",
        "outputId": "7b9713c9-05b3-491a-d43d-4dd5c16411c1"
      },
      "execution_count": 3,
      "outputs": [
        {
          "output_type": "stream",
          "name": "stdout",
          "text": [
            "4\n",
            "tashnir\n"
          ]
        }
      ]
    },
    {
      "cell_type": "code",
      "source": [
        "x=3\n",
        "y=(\"shakil\")\n",
        "z=float(\"5\")\n",
        "print(x,y,z)"
      ],
      "metadata": {
        "colab": {
          "base_uri": "https://localhost:8080/"
        },
        "id": "TQv9we7Ur_Fo",
        "outputId": "5ac3ae3b-c7ed-4bbd-ad17-d23443aa99dd"
      },
      "execution_count": 5,
      "outputs": [
        {
          "output_type": "stream",
          "name": "stdout",
          "text": [
            "3 shakil 5.0\n"
          ]
        }
      ]
    },
    {
      "cell_type": "code",
      "source": [
        "import sys\n",
        "x=int(3)\n",
        "y=str(\"tashnirn\")\n",
        "z=float(10)\n",
        "print(x , type(x), sys.getsizeof(x), y , type (y), sys.getsizeof(y), z, type (z), sys.getsizeof(z)  )"
      ],
      "metadata": {
        "colab": {
          "base_uri": "https://localhost:8080/"
        },
        "id": "vAKZhwJ3ucKb",
        "outputId": "db8dcca6-2aea-41a8-ff59-d36a51ab219c"
      },
      "execution_count": 12,
      "outputs": [
        {
          "output_type": "stream",
          "name": "stdout",
          "text": [
            "3 <class 'int'> 28 tashnirn <class 'str'> 57 10.0 <class 'float'> 24\n"
          ]
        }
      ]
    }
  ]
}